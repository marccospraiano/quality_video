{
 "cells": [
  {
   "cell_type": "code",
   "execution_count": 41,
   "metadata": {},
   "outputs": [],
   "source": [
    "import pandas as pd\n",
    "import numpy as np\n",
    "import matplotlib.pyplot as plt\n",
    "import seaborn as sns\n",
    "%matplotlib inline\n",
    "import json\n",
    "from sklearn.preprocessing import MinMaxScaler"
   ]
  },
  {
   "cell_type": "markdown",
   "metadata": {},
   "source": [
    "# Analysing and Exploring the Datas"
   ]
  },
  {
   "cell_type": "code",
   "execution_count": 42,
   "metadata": {},
   "outputs": [
    {
     "data": {
      "text/html": [
       "<div>\n",
       "<style scoped>\n",
       "    .dataframe tbody tr th:only-of-type {\n",
       "        vertical-align: middle;\n",
       "    }\n",
       "\n",
       "    .dataframe tbody tr th {\n",
       "        vertical-align: top;\n",
       "    }\n",
       "\n",
       "    .dataframe thead th {\n",
       "        text-align: right;\n",
       "    }\n",
       "</style>\n",
       "<table border=\"1\" class=\"dataframe\">\n",
       "  <thead>\n",
       "    <tr style=\"text-align: right;\">\n",
       "      <th></th>\n",
       "      <th>RESOLUCAO</th>\n",
       "      <th>BITRATE</th>\n",
       "      <th>QP</th>\n",
       "      <th>FPS</th>\n",
       "      <th>PSNR</th>\n",
       "      <th>SSIM</th>\n",
       "    </tr>\n",
       "  </thead>\n",
       "  <tbody>\n",
       "    <tr>\n",
       "      <th>0</th>\n",
       "      <td>34560000</td>\n",
       "      <td>153140.4</td>\n",
       "      <td>23</td>\n",
       "      <td>30</td>\n",
       "      <td>37.830948</td>\n",
       "      <td>0.841709</td>\n",
       "    </tr>\n",
       "    <tr>\n",
       "      <th>1</th>\n",
       "      <td>34560000</td>\n",
       "      <td>70482.2</td>\n",
       "      <td>29</td>\n",
       "      <td>30</td>\n",
       "      <td>34.691950</td>\n",
       "      <td>0.768763</td>\n",
       "    </tr>\n",
       "    <tr>\n",
       "      <th>2</th>\n",
       "      <td>34560000</td>\n",
       "      <td>48405.0</td>\n",
       "      <td>32</td>\n",
       "      <td>30</td>\n",
       "      <td>33.236920</td>\n",
       "      <td>0.723732</td>\n",
       "    </tr>\n",
       "    <tr>\n",
       "      <th>3</th>\n",
       "      <td>34560000</td>\n",
       "      <td>116526.4</td>\n",
       "      <td>26</td>\n",
       "      <td>30</td>\n",
       "      <td>36.754460</td>\n",
       "      <td>0.787863</td>\n",
       "    </tr>\n",
       "    <tr>\n",
       "      <th>4</th>\n",
       "      <td>34560000</td>\n",
       "      <td>72227.2</td>\n",
       "      <td>30</td>\n",
       "      <td>30</td>\n",
       "      <td>34.758755</td>\n",
       "      <td>0.737197</td>\n",
       "    </tr>\n",
       "  </tbody>\n",
       "</table>\n",
       "</div>"
      ],
      "text/plain": [
       "   RESOLUCAO   BITRATE  QP  FPS       PSNR      SSIM\n",
       "0   34560000  153140.4  23   30  37.830948  0.841709\n",
       "1   34560000   70482.2  29   30  34.691950  0.768763\n",
       "2   34560000   48405.0  32   30  33.236920  0.723732\n",
       "3   34560000  116526.4  26   30  36.754460  0.787863\n",
       "4   34560000   72227.2  30   30  34.758755  0.737197"
      ]
     },
     "execution_count": 42,
     "metadata": {},
     "output_type": "execute_result"
    }
   ],
   "source": [
    "# Loading the dataset\n",
    "csv_metrics = pd.read_csv(\"http://vod.icomp.ufam.edu.br/video_dataset/csvs_metrics/video_quality.csv\")\n",
    "csv_metrics = csv_metrics.drop(['LPIPS','VMAF'], axis=1)\n",
    "csv_metrics.head()"
   ]
  },
  {
   "cell_type": "code",
   "execution_count": 45,
   "metadata": {},
   "outputs": [
    {
     "data": {
      "text/html": [
       "<div>\n",
       "<style scoped>\n",
       "    .dataframe tbody tr th:only-of-type {\n",
       "        vertical-align: middle;\n",
       "    }\n",
       "\n",
       "    .dataframe tbody tr th {\n",
       "        vertical-align: top;\n",
       "    }\n",
       "\n",
       "    .dataframe thead th {\n",
       "        text-align: right;\n",
       "    }\n",
       "</style>\n",
       "<table border=\"1\" class=\"dataframe\">\n",
       "  <thead>\n",
       "    <tr style=\"text-align: right;\">\n",
       "      <th></th>\n",
       "      <th>RESOLUCAO</th>\n",
       "      <th>BITRATE</th>\n",
       "      <th>QP</th>\n",
       "      <th>FPS</th>\n",
       "      <th>PSNR</th>\n",
       "      <th>SSIM</th>\n",
       "    </tr>\n",
       "  </thead>\n",
       "  <tbody>\n",
       "    <tr>\n",
       "      <th>count</th>\n",
       "      <td>2.640000e+03</td>\n",
       "      <td>2.640000e+03</td>\n",
       "      <td>2640.000000</td>\n",
       "      <td>2640.000000</td>\n",
       "      <td>2640.000000</td>\n",
       "      <td>2640.000000</td>\n",
       "    </tr>\n",
       "    <tr>\n",
       "      <th>mean</th>\n",
       "      <td>1.269982e+08</td>\n",
       "      <td>1.321944e+06</td>\n",
       "      <td>30.744318</td>\n",
       "      <td>27.136364</td>\n",
       "      <td>34.964979</td>\n",
       "      <td>0.517834</td>\n",
       "    </tr>\n",
       "    <tr>\n",
       "      <th>std</th>\n",
       "      <td>9.675599e+07</td>\n",
       "      <td>4.188533e+06</td>\n",
       "      <td>4.492359</td>\n",
       "      <td>2.997467</td>\n",
       "      <td>3.940023</td>\n",
       "      <td>0.184661</td>\n",
       "    </tr>\n",
       "    <tr>\n",
       "      <th>min</th>\n",
       "      <td>2.764800e+07</td>\n",
       "      <td>2.230080e+04</td>\n",
       "      <td>14.000000</td>\n",
       "      <td>24.000000</td>\n",
       "      <td>20.241417</td>\n",
       "      <td>0.061618</td>\n",
       "    </tr>\n",
       "    <tr>\n",
       "      <th>25%</th>\n",
       "      <td>5.529600e+07</td>\n",
       "      <td>3.111084e+05</td>\n",
       "      <td>28.000000</td>\n",
       "      <td>24.000000</td>\n",
       "      <td>32.148144</td>\n",
       "      <td>0.400593</td>\n",
       "    </tr>\n",
       "    <tr>\n",
       "      <th>50%</th>\n",
       "      <td>9.417600e+07</td>\n",
       "      <td>6.543960e+05</td>\n",
       "      <td>31.000000</td>\n",
       "      <td>30.000000</td>\n",
       "      <td>34.807460</td>\n",
       "      <td>0.539559</td>\n",
       "    </tr>\n",
       "    <tr>\n",
       "      <th>75%</th>\n",
       "      <td>1.658880e+08</td>\n",
       "      <td>1.371574e+06</td>\n",
       "      <td>34.000000</td>\n",
       "      <td>30.000000</td>\n",
       "      <td>37.671411</td>\n",
       "      <td>0.656716</td>\n",
       "    </tr>\n",
       "    <tr>\n",
       "      <th>max</th>\n",
       "      <td>3.110400e+08</td>\n",
       "      <td>1.681524e+08</td>\n",
       "      <td>44.000000</td>\n",
       "      <td>30.000000</td>\n",
       "      <td>49.370070</td>\n",
       "      <td>0.930759</td>\n",
       "    </tr>\n",
       "  </tbody>\n",
       "</table>\n",
       "</div>"
      ],
      "text/plain": [
       "          RESOLUCAO       BITRATE           QP          FPS         PSNR  \\\n",
       "count  2.640000e+03  2.640000e+03  2640.000000  2640.000000  2640.000000   \n",
       "mean   1.269982e+08  1.321944e+06    30.744318    27.136364    34.964979   \n",
       "std    9.675599e+07  4.188533e+06     4.492359     2.997467     3.940023   \n",
       "min    2.764800e+07  2.230080e+04    14.000000    24.000000    20.241417   \n",
       "25%    5.529600e+07  3.111084e+05    28.000000    24.000000    32.148144   \n",
       "50%    9.417600e+07  6.543960e+05    31.000000    30.000000    34.807460   \n",
       "75%    1.658880e+08  1.371574e+06    34.000000    30.000000    37.671411   \n",
       "max    3.110400e+08  1.681524e+08    44.000000    30.000000    49.370070   \n",
       "\n",
       "              SSIM  \n",
       "count  2640.000000  \n",
       "mean      0.517834  \n",
       "std       0.184661  \n",
       "min       0.061618  \n",
       "25%       0.400593  \n",
       "50%       0.539559  \n",
       "75%       0.656716  \n",
       "max       0.930759  "
      ]
     },
     "execution_count": 45,
     "metadata": {},
     "output_type": "execute_result"
    }
   ],
   "source": [
    "csv_metrics.describe()"
   ]
  },
  {
   "cell_type": "code",
   "execution_count": 125,
   "metadata": {},
   "outputs": [
    {
     "name": "stdout",
     "output_type": "stream",
     "text": [
      "<class 'pandas.core.frame.DataFrame'>\n",
      "RangeIndex: 2640 entries, 0 to 2639\n",
      "Data columns (total 6 columns):\n",
      "RESOLUCAO    2640 non-null int64\n",
      "BITRATE      2640 non-null float64\n",
      "QP           2640 non-null int64\n",
      "FPS          2640 non-null int64\n",
      "PSNR         2640 non-null float64\n",
      "SSIM         2640 non-null float64\n",
      "dtypes: float64(3), int64(3)\n",
      "memory usage: 123.8 KB\n"
     ]
    }
   ],
   "source": [
    "csv_metrics.info()"
   ]
  },
  {
   "cell_type": "code",
   "execution_count": 43,
   "metadata": {},
   "outputs": [],
   "source": [
    "def bytesTobits(x):\n",
    "    return x*8"
   ]
  },
  {
   "cell_type": "code",
   "execution_count": 44,
   "metadata": {},
   "outputs": [
    {
     "data": {
      "text/html": [
       "<div>\n",
       "<style scoped>\n",
       "    .dataframe tbody tr th:only-of-type {\n",
       "        vertical-align: middle;\n",
       "    }\n",
       "\n",
       "    .dataframe tbody tr th {\n",
       "        vertical-align: top;\n",
       "    }\n",
       "\n",
       "    .dataframe thead th {\n",
       "        text-align: right;\n",
       "    }\n",
       "</style>\n",
       "<table border=\"1\" class=\"dataframe\">\n",
       "  <thead>\n",
       "    <tr style=\"text-align: right;\">\n",
       "      <th></th>\n",
       "      <th>RESOLUCAO</th>\n",
       "      <th>BITRATE</th>\n",
       "      <th>QP</th>\n",
       "      <th>FPS</th>\n",
       "      <th>PSNR</th>\n",
       "      <th>SSIM</th>\n",
       "    </tr>\n",
       "  </thead>\n",
       "  <tbody>\n",
       "    <tr>\n",
       "      <th>0</th>\n",
       "      <td>34560000</td>\n",
       "      <td>1225123.2</td>\n",
       "      <td>23</td>\n",
       "      <td>30</td>\n",
       "      <td>37.830948</td>\n",
       "      <td>0.841709</td>\n",
       "    </tr>\n",
       "    <tr>\n",
       "      <th>1</th>\n",
       "      <td>34560000</td>\n",
       "      <td>563857.6</td>\n",
       "      <td>29</td>\n",
       "      <td>30</td>\n",
       "      <td>34.691950</td>\n",
       "      <td>0.768763</td>\n",
       "    </tr>\n",
       "    <tr>\n",
       "      <th>2</th>\n",
       "      <td>34560000</td>\n",
       "      <td>387240.0</td>\n",
       "      <td>32</td>\n",
       "      <td>30</td>\n",
       "      <td>33.236920</td>\n",
       "      <td>0.723732</td>\n",
       "    </tr>\n",
       "    <tr>\n",
       "      <th>3</th>\n",
       "      <td>34560000</td>\n",
       "      <td>932211.2</td>\n",
       "      <td>26</td>\n",
       "      <td>30</td>\n",
       "      <td>36.754460</td>\n",
       "      <td>0.787863</td>\n",
       "    </tr>\n",
       "    <tr>\n",
       "      <th>4</th>\n",
       "      <td>34560000</td>\n",
       "      <td>577817.6</td>\n",
       "      <td>30</td>\n",
       "      <td>30</td>\n",
       "      <td>34.758755</td>\n",
       "      <td>0.737197</td>\n",
       "    </tr>\n",
       "  </tbody>\n",
       "</table>\n",
       "</div>"
      ],
      "text/plain": [
       "   RESOLUCAO    BITRATE  QP  FPS       PSNR      SSIM\n",
       "0   34560000  1225123.2  23   30  37.830948  0.841709\n",
       "1   34560000   563857.6  29   30  34.691950  0.768763\n",
       "2   34560000   387240.0  32   30  33.236920  0.723732\n",
       "3   34560000   932211.2  26   30  36.754460  0.787863\n",
       "4   34560000   577817.6  30   30  34.758755  0.737197"
      ]
     },
     "execution_count": 44,
     "metadata": {},
     "output_type": "execute_result"
    }
   ],
   "source": [
    "#Multiply the bitrate for 8\n",
    "csv_metrics['BITRATE'] = csv_metrics['BITRATE'].apply(lambda x: bytesTobits(x))\n",
    "csv_metrics.head()"
   ]
  },
  {
   "cell_type": "code",
   "execution_count": 4,
   "metadata": {},
   "outputs": [
    {
     "data": {
      "text/plain": [
       "<matplotlib.axes._subplots.AxesSubplot at 0x7fdb8724c278>"
      ]
     },
     "execution_count": 4,
     "metadata": {},
     "output_type": "execute_result"
    },
    {
     "data": {
      "image/png": "[encoded data removed]",
      "text/plain": [
       "<Figure size 432x288 with 2 Axes>"
      ]
     },
     "metadata": {
      "needs_background": "light"
     },
     "output_type": "display_data"
    }
   ],
   "source": [
    "sns.heatmap(csv_metrics.corr(), cmap=\"YlGnBu\")"
   ]
  },
  {
   "cell_type": "code",
   "execution_count": 99,
   "metadata": {},
   "outputs": [
    {
     "data": {
      "text/plain": [
       "<matplotlib.axes._subplots.AxesSubplot at 0x7fdb64b999e8>"
      ]
     },
     "execution_count": 99,
     "metadata": {},
     "output_type": "execute_result"
    },
    {
     "data": {
      "image/png": "[encoded data removed]",
      "text/plain": [
       "<Figure size 432x288 with 1 Axes>"
      ]
     },
     "metadata": {
      "needs_background": "light"
     },
     "output_type": "display_data"
    }
   ],
   "source": [
    "sns.heatmap(csv_metrics.isnull(),yticklabels=False,cbar=False,cmap='viridis')"
   ]
  },
  {
   "cell_type": "code",
   "execution_count": 101,
   "metadata": {},
   "outputs": [
    {
     "data": {
      "text/plain": [
       "<matplotlib.axes._subplots.AxesSubplot at 0x7fdb64b30ef0>"
      ]
     },
     "execution_count": 101,
     "metadata": {},
     "output_type": "execute_result"
    },
    {
     "data": {
      "image/png": "[encoded data removed]",
      "text/plain": [
       "<Figure size 432x288 with 1 Axes>"
      ]
     },
     "metadata": {},
     "output_type": "display_data"
    }
   ],
   "source": [
    "sns.set_style('whitegrid')\n",
    "\n",
    "sns.countplot(x='QP',data=csv_metrics,palette='RdBu_r')"
   ]
  },
  {
   "cell_type": "code",
   "execution_count": 103,
   "metadata": {},
   "outputs": [
    {
     "data": {
      "text/plain": [
       "<matplotlib.axes._subplots.AxesSubplot at 0x7fdb64b84b70>"
      ]
     },
     "execution_count": 103,
     "metadata": {},
     "output_type": "execute_result"
    },
    {
     "data": {
      "image/png": "[encoded data removed]",
      "text/plain": [
       "<Figure size 432x288 with 1 Axes>"
      ]
     },
     "metadata": {},
     "output_type": "display_data"
    }
   ],
   "source": [
    "sns.countplot(x='RESOLUCAO',data=csv_metrics,palette='RdBu_r')"
   ]
  },
  {
   "cell_type": "code",
   "execution_count": 114,
   "metadata": {},
   "outputs": [
    {
     "data": {
      "text/plain": [
       "<matplotlib.axes._subplots.AxesSubplot at 0x7fdb43e23a90>"
      ]
     },
     "execution_count": 114,
     "metadata": {},
     "output_type": "execute_result"
    },
    {
     "data": {
      "image/png": "[encoded data removed]",
      "text/plain": [
       "<Figure size 432x288 with 1 Axes>"
      ]
     },
     "metadata": {},
     "output_type": "display_data"
    }
   ],
   "source": [
    "sns.countplot(x='QP',hue='RESOLUCAO',data=csv_metrics,palette='rainbow')"
   ]
  },
  {
   "cell_type": "code",
   "execution_count": null,
   "metadata": {},
   "outputs": [],
   "source": []
  },
  {
   "cell_type": "code",
   "execution_count": 138,
   "metadata": {},
   "outputs": [
    {
     "data": {
      "text/plain": [
       "<seaborn.axisgrid.JointGrid at 0x7fdb3f699978>"
      ]
     },
     "execution_count": 138,
     "metadata": {},
     "output_type": "execute_result"
    },
    {
     "data": {
      "image/png": "[encoded data removed]",
      "text/plain": [
       "<Figure size 432x432 with 3 Axes>"
      ]
     },
     "metadata": {},
     "output_type": "display_data"
    }
   ],
   "source": [
    "\n",
    "sns.jointplot(x='QP',y='PSNR',data=csv_metrics)"
   ]
  },
  {
   "cell_type": "code",
   "execution_count": 75,
   "metadata": {},
   "outputs": [],
   "source": [
    "\n",
    "def createDataFrame(csv_metrics):\n",
    "    list_dict = []\n",
    "    \n",
    "    for j in range(0, len(csv_metrics.index), 3):\n",
    "        \n",
    "        dict_metrics = {}\n",
    "        \n",
    "        dict_metrics[\"RESOLUCAO\"] = csv_metrics[\"RESOLUCAO\"][j]\n",
    "        dict_metrics[\"FPS\"] = csv_metrics[\"FPS\"][j]\n",
    "        \n",
    "        dict_metrics[\"BITRATE1\"] = csv_metrics[\"BITRATE\"][j]\n",
    "        dict_metrics[\"BITRATE2\"] = csv_metrics[\"BITRATE\"][j+1]\n",
    "        dict_metrics[\"BITRATE3\"] = csv_metrics[\"BITRATE\"][j+2]\n",
    "        \n",
    "        dict_metrics[\"PSNR1\"] = csv_metrics[\"PSNR\"][j]\n",
    "        dict_metrics[\"PSNR2\"] = csv_metrics[\"PSNR\"][j+1]\n",
    "        dict_metrics[\"PSNR3\"] = csv_metrics[\"PSNR\"][j+2]\n",
    "        \n",
    "        dict_metrics[\"SSIM1\"] = csv_metrics[\"SSIM\"][j]\n",
    "        dict_metrics[\"SSIM2\"] = csv_metrics[\"SSIM\"][j+1]\n",
    "        dict_metrics[\"SSIM3\"] = csv_metrics[\"SSIM\"][j+2]\n",
    "        \n",
    "        dict_metrics[\"QP1\"] = csv_metrics[\"QP\"][j]\n",
    "        dict_metrics[\"QP2\"] = csv_metrics[\"QP\"][j+1]\n",
    "        dict_metrics[\"QP3\"] = csv_metrics[\"QP\"][j+2]\n",
    "        \n",
    "        list_dict.append(dict_metrics)\n",
    "            \n",
    "    return list_dict\n",
    "    "
   ]
  },
  {
   "cell_type": "code",
   "execution_count": 92,
   "metadata": {},
   "outputs": [
    {
     "data": {
      "text/html": [
       "<div>\n",
       "<style scoped>\n",
       "    .dataframe tbody tr th:only-of-type {\n",
       "        vertical-align: middle;\n",
       "    }\n",
       "\n",
       "    .dataframe tbody tr th {\n",
       "        vertical-align: top;\n",
       "    }\n",
       "\n",
       "    .dataframe thead th {\n",
       "        text-align: right;\n",
       "    }\n",
       "</style>\n",
       "<table border=\"1\" class=\"dataframe\">\n",
       "  <thead>\n",
       "    <tr style=\"text-align: right;\">\n",
       "      <th></th>\n",
       "      <th>BITRATE1</th>\n",
       "      <th>BITRATE2</th>\n",
       "      <th>BITRATE3</th>\n",
       "      <th>FPS</th>\n",
       "      <th>PSNR1</th>\n",
       "      <th>PSNR2</th>\n",
       "      <th>PSNR3</th>\n",
       "      <th>QP1</th>\n",
       "      <th>QP2</th>\n",
       "      <th>QP3</th>\n",
       "      <th>RESOLUCAO</th>\n",
       "      <th>SSIM1</th>\n",
       "      <th>SSIM2</th>\n",
       "      <th>SSIM3</th>\n",
       "    </tr>\n",
       "  </thead>\n",
       "  <tbody>\n",
       "    <tr>\n",
       "      <th>0</th>\n",
       "      <td>1225123.2</td>\n",
       "      <td>563857.6</td>\n",
       "      <td>387240.0</td>\n",
       "      <td>30</td>\n",
       "      <td>37.830948</td>\n",
       "      <td>34.691950</td>\n",
       "      <td>33.236920</td>\n",
       "      <td>23</td>\n",
       "      <td>29</td>\n",
       "      <td>32</td>\n",
       "      <td>34560000</td>\n",
       "      <td>0.841709</td>\n",
       "      <td>0.768763</td>\n",
       "      <td>0.723732</td>\n",
       "    </tr>\n",
       "    <tr>\n",
       "      <th>1</th>\n",
       "      <td>932211.2</td>\n",
       "      <td>577817.6</td>\n",
       "      <td>405638.4</td>\n",
       "      <td>30</td>\n",
       "      <td>36.754460</td>\n",
       "      <td>34.758755</td>\n",
       "      <td>33.091034</td>\n",
       "      <td>26</td>\n",
       "      <td>30</td>\n",
       "      <td>33</td>\n",
       "      <td>34560000</td>\n",
       "      <td>0.787863</td>\n",
       "      <td>0.737197</td>\n",
       "      <td>0.689270</td>\n",
       "    </tr>\n",
       "    <tr>\n",
       "      <th>2</th>\n",
       "      <td>577515.2</td>\n",
       "      <td>330044.8</td>\n",
       "      <td>264721.6</td>\n",
       "      <td>30</td>\n",
       "      <td>35.854400</td>\n",
       "      <td>33.332720</td>\n",
       "      <td>32.209446</td>\n",
       "      <td>29</td>\n",
       "      <td>34</td>\n",
       "      <td>36</td>\n",
       "      <td>34560000</td>\n",
       "      <td>0.753501</td>\n",
       "      <td>0.685049</td>\n",
       "      <td>0.652938</td>\n",
       "    </tr>\n",
       "    <tr>\n",
       "      <th>3</th>\n",
       "      <td>435264.0</td>\n",
       "      <td>168742.4</td>\n",
       "      <td>111297.6</td>\n",
       "      <td>30</td>\n",
       "      <td>36.030660</td>\n",
       "      <td>32.363934</td>\n",
       "      <td>27.200453</td>\n",
       "      <td>25</td>\n",
       "      <td>31</td>\n",
       "      <td>34</td>\n",
       "      <td>34560000</td>\n",
       "      <td>0.803115</td>\n",
       "      <td>0.718049</td>\n",
       "      <td>0.603503</td>\n",
       "    </tr>\n",
       "    <tr>\n",
       "      <th>4</th>\n",
       "      <td>1425590.4</td>\n",
       "      <td>688408.0</td>\n",
       "      <td>442771.2</td>\n",
       "      <td>30</td>\n",
       "      <td>34.702904</td>\n",
       "      <td>32.138020</td>\n",
       "      <td>30.708460</td>\n",
       "      <td>26</td>\n",
       "      <td>31</td>\n",
       "      <td>34</td>\n",
       "      <td>34560000</td>\n",
       "      <td>0.654312</td>\n",
       "      <td>0.532417</td>\n",
       "      <td>0.455694</td>\n",
       "    </tr>\n",
       "  </tbody>\n",
       "</table>\n",
       "</div>"
      ],
      "text/plain": [
       "    BITRATE1  BITRATE2  BITRATE3  FPS      PSNR1      PSNR2      PSNR3  QP1  \\\n",
       "0  1225123.2  563857.6  387240.0   30  37.830948  34.691950  33.236920   23   \n",
       "1   932211.2  577817.6  405638.4   30  36.754460  34.758755  33.091034   26   \n",
       "2   577515.2  330044.8  264721.6   30  35.854400  33.332720  32.209446   29   \n",
       "3   435264.0  168742.4  111297.6   30  36.030660  32.363934  27.200453   25   \n",
       "4  1425590.4  688408.0  442771.2   30  34.702904  32.138020  30.708460   26   \n",
       "\n",
       "   QP2  QP3  RESOLUCAO     SSIM1     SSIM2     SSIM3  \n",
       "0   29   32   34560000  0.841709  0.768763  0.723732  \n",
       "1   30   33   34560000  0.787863  0.737197  0.689270  \n",
       "2   34   36   34560000  0.753501  0.685049  0.652938  \n",
       "3   31   34   34560000  0.803115  0.718049  0.603503  \n",
       "4   31   34   34560000  0.654312  0.532417  0.455694  "
      ]
     },
     "execution_count": 92,
     "metadata": {},
     "output_type": "execute_result"
    }
   ],
   "source": [
    "df_csv = pd.DataFrame(createDataFrame(csv_metrics))\n",
    "df_csv.head()"
   ]
  },
  {
   "cell_type": "code",
   "execution_count": 96,
   "metadata": {},
   "outputs": [
    {
     "data": {
      "text/plain": [
       "28    129\n",
       "27    125\n",
       "26    111\n",
       "25     96\n",
       "24     71\n",
       "29     70\n",
       "30     63\n",
       "23     61\n",
       "31     41\n",
       "22     31\n",
       "20     16\n",
       "21     15\n",
       "32     14\n",
       "33     11\n",
       "14      6\n",
       "18      5\n",
       "34      4\n",
       "19      4\n",
       "35      2\n",
       "16      2\n",
       "15      2\n",
       "36      1\n",
       "Name: QP1, dtype: int64"
      ]
     },
     "execution_count": 96,
     "metadata": {},
     "output_type": "execute_result"
    }
   ],
   "source": [
    "df_csv[\"QP1\"].value_counts()"
   ]
  },
  {
   "cell_type": "code",
   "execution_count": 97,
   "metadata": {},
   "outputs": [
    {
     "data": {
      "text/plain": [
       "33    125\n",
       "32    121\n",
       "30    119\n",
       "31    111\n",
       "29     76\n",
       "34     65\n",
       "35     63\n",
       "28     44\n",
       "36     34\n",
       "27     33\n",
       "26     24\n",
       "37     21\n",
       "25     16\n",
       "24     11\n",
       "23      6\n",
       "38      4\n",
       "21      3\n",
       "40      1\n",
       "39      1\n",
       "22      1\n",
       "41      1\n",
       "Name: QP2, dtype: int64"
      ]
     },
     "execution_count": 97,
     "metadata": {},
     "output_type": "execute_result"
    }
   ],
   "source": [
    "df_csv[\"QP2\"].value_counts()"
   ]
  },
  {
   "cell_type": "code",
   "execution_count": 98,
   "metadata": {},
   "outputs": [
    {
     "data": {
      "text/plain": [
       "35    135\n",
       "36    126\n",
       "33    115\n",
       "34    113\n",
       "32     75\n",
       "37     74\n",
       "38     71\n",
       "39     34\n",
       "31     34\n",
       "30     29\n",
       "40     22\n",
       "29     19\n",
       "28     16\n",
       "27      8\n",
       "26      4\n",
       "44      1\n",
       "43      1\n",
       "41      1\n",
       "42      1\n",
       "25      1\n",
       "Name: QP3, dtype: int64"
      ]
     },
     "execution_count": 98,
     "metadata": {},
     "output_type": "execute_result"
    }
   ],
   "source": [
    "df_csv[\"QP3\"].value_counts()"
   ]
  },
  {
   "cell_type": "markdown",
   "metadata": {},
   "source": [
    "# Data Transformation"
   ]
  },
  {
   "cell_type": "code",
   "execution_count": 31,
   "metadata": {},
   "outputs": [],
   "source": [
    "norm_data = MinMaxScaler()\n",
    "X = norm_data.fit_transform(X)\n",
    "y = y.reshape(-1,1)\n",
    "y = norm_data.fit_transform(y)"
   ]
  },
  {
   "cell_type": "markdown",
   "metadata": {
    "scrolled": true
   },
   "source": [
    "# Training Division"
   ]
  },
  {
   "cell_type": "code",
   "execution_count": 121,
   "metadata": {},
   "outputs": [],
   "source": [
    "from sklearn.model_selection import train_test_split"
   ]
  },
  {
   "cell_type": "code",
   "execution_count": 124,
   "metadata": {},
   "outputs": [],
   "source": [
    "X_train, X_test, y_train, y_test = train_test_split(df_csv.drop(['QP1', 'QP2', 'QP3'], axis=1), \n",
    "                                                    df_csv['QP1'], test_size=0.30, \n",
    "                                                    random_state=101)"
   ]
  },
  {
   "cell_type": "code",
   "execution_count": null,
   "metadata": {},
   "outputs": [],
   "source": []
  },
  {
   "cell_type": "code",
   "execution_count": null,
   "metadata": {},
   "outputs": [],
   "source": []
  }
 ],
 "metadata": {
  "kernelspec": {
   "display_name": "Python 3",
   "language": "python",
   "name": "python3"
  },
  "language_info": {
   "codemirror_mode": {
    "name": "ipython",
    "version": 3
   },
   "file_extension": ".py",
   "mimetype": "text/x-python",
   "name": "python",
   "nbconvert_exporter": "python",
   "pygments_lexer": "ipython3",
   "version": "3.5.2"
  }
 },
 "nbformat": 4,
 "nbformat_minor": 2
}
